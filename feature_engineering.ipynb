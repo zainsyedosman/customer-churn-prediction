{
  "nbformat": 4,
  "nbformat_minor": 0,
  "metadata": {
    "colab": {
      "provenance": []
    },
    "kernelspec": {
      "name": "python3",
      "display_name": "Python 3"
    },
    "language_info": {
      "name": "python"
    }
  },
  "cells": [
    {
      "cell_type": "code",
      "execution_count": null,
      "metadata": {
        "id": "7oZx69IFdsIC"
      },
      "outputs": [],
      "source": [
        "# Customer Churn Prediction - Feature Engineering\n",
        "\n",
        "# 2_feature_engineering.ipynb\n",
        "\n",
        "# Import libraries\n",
        "import pandas as pd\n",
        "from sklearn.preprocessing import LabelEncoder, StandardScaler\n",
        "\n",
        "# Load dataset\n",
        "df = pd.read_csv('data/telco_churn.csv')\n",
        "\n",
        "# Encode categorical variables\n",
        "le = LabelEncoder()\n",
        "categorical_features = ['gender', 'Partner', 'Dependents', 'PhoneService', 'MultipleLines',\n",
        "                        'InternetService', 'OnlineSecurity', 'OnlineBackup', 'DeviceProtection',\n",
        "                        'TechSupport', 'StreamingTV', 'StreamingMovies', 'Contract',\n",
        "                        'PaperlessBilling', 'PaymentMethod']\n",
        "\n",
        "for col in categorical_features:\n",
        "    df[col] = le.fit_transform(df[col])\n",
        "\n",
        "# Handle missing TotalCharges\n",
        "if df['TotalCharges'].dtype == 'object':\n",
        "    df['TotalCharges'] = pd.to_numeric(df['TotalCharges'], errors='coerce')\n",
        "    df['TotalCharges'].fillna(df['TotalCharges'].median(), inplace=True)\n",
        "\n",
        "# Feature scaling\n",
        "scaler = StandardScaler()\n",
        "scaled_features = ['tenure', 'MonthlyCharges', 'TotalCharges']\n",
        "df[scaled_features] = scaler.fit_transform(df[scaled_features])\n",
        "\n",
        "# Create tenure bucket feature\n",
        "def tenure_bucket(tenure):\n",
        "    if tenure <= 12:\n",
        "        return '0-12 months'\n",
        "    elif tenure <= 48:\n",
        "        return '13-48 months'\n",
        "    else:\n",
        "        return '49+ months'\n",
        "\n",
        "# New feature\n",
        "df['tenure_bucket'] = df['tenure'].apply(tenure_bucket)\n",
        "df['tenure_bucket'] = le.fit_transform(df['tenure_bucket'])\n",
        "\n",
        "# Save preprocessed data\n",
        "df.to_csv('data/processed_telco_churn.csv', index=False)"
      ]
    }
  ]
}